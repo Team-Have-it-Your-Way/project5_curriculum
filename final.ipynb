{
 "cells": [
  {
   "cell_type": "markdown",
   "id": "6f544198-da4e-42b1-91ee-40a53d43b262",
   "metadata": {},
   "source": [
    "# Curriculum Logs Project"
   ]
  },
  {
   "cell_type": "markdown",
   "id": "f91aad19-6fcc-4f3c-8f9a-d7c1d44d0833",
   "metadata": {},
   "source": [
    "## Goal:\n",
    "* Working as a team, acquire, prep, and explore the curriculum website logs to answer at least five questions as complete as possible."
   ]
  },
  {
   "cell_type": "markdown",
   "id": "73ea5810-ae79-46fd-a25a-f3f295f1e339",
   "metadata": {},
   "source": [
    "## Imports"
   ]
  },
  {
   "cell_type": "markdown",
   "id": "2b03c907-2f6d-43f1-8638-867a5912236a",
   "metadata": {},
   "source": [
    "<div class=\"alert alert-block alert-warning\">\n",
    "\n",
    "# standard imports...\n",
    "\n",
    "</div>"
   ]
  },
  {
   "cell_type": "markdown",
   "id": "2f6daf5c-f234-4d89-afe6-204c06bd3f4e",
   "metadata": {},
   "source": [
    "## Acquire"
   ]
  },
  {
   "cell_type": "markdown",
   "id": "a1921f85-83db-45d4-a2c4-fe2578c8f42a",
   "metadata": {},
   "source": [
    "<div class=\"alert alert-block alert-info\">\n",
    "\n",
    "* Data acquired from __[Google .txt file](https://drive.google.com/file/d/1dWwP_4vqETIS2oMALU2mH3F6QQh1m8CT/view?usp=share_link)__\n",
    "* Stripped text into 5 separate columns\n",
    "* Added columns '____' to prepped data\n",
    "* It contains 900,223 rows and 5 columns before cleaning\n",
    "* Each row represents a single user access to a curriculum page\n",
    "* Each column represents a detail about the user or page accessed and on which date\n",
    "\n",
    "</div>"
   ]
  },
  {
   "cell_type": "markdown",
   "id": "619fc1ec-4f83-4d14-871d-4dd46c0c7f36",
   "metadata": {},
   "source": [
    "## Prepare"
   ]
  },
  {
   "cell_type": "markdown",
   "id": "1218dc6b-c97f-484c-8ab8-1ea70ff9045d",
   "metadata": {},
   "source": [
    "<div class=\"alert alert-block alert-info\">\n",
    "\n",
    "* Did not remove any columns\n",
    "* Did not rename any columns\n",
    "* Checked for nulls - removed one null missing 'endpoint'\n",
    "* Filled all 'cohort' nulls with '0'\n",
    "* ...\n",
    "\n",
    "</div>"
   ]
  },
  {
   "cell_type": "markdown",
   "id": "4bac31be-3440-4aa0-8abd-a44bde752a2b",
   "metadata": {},
   "source": [
    "## Data Dictionary"
   ]
  },
  {
   "cell_type": "markdown",
   "id": "f8226302-b935-4b90-8e98-52aefd0c20a8",
   "metadata": {},
   "source": [
    "| Feature   | Definition                                                                                                                     |\n",
    "|-----------|--------------------------------------------------------------------------------------------------------------------------------|\n",
    "| date      | the date and time a user accessed Codeup curriculum internet page                                                              |\n",
    "| endpoint  | the page the user landed on in the curriculum                                                                                  |\n",
    "| user_id   | the number assigned to a user by CodeUp (i.e. student, staff)                                                                  |\n",
    "| cohort_id | the number assigned to a cohort in a program by CodeUp                                                                         |\n",
    "| source_ip | Internet Protocol address, is a numerical label assigned to each device connected to a computer network that uses the Internet |"
   ]
  },
  {
   "cell_type": "markdown",
   "id": "2e58469c-5317-4c66-bf7e-96eb3a4ca799",
   "metadata": {},
   "source": [
    "<div class=\"alert alert-block alert-warning\">\n",
    "\n",
    "# acquire data...\n",
    "\n",
    "</div>"
   ]
  },
  {
   "cell_type": "markdown",
   "id": "9a75ea04-696a-42eb-b523-00fbdd23debe",
   "metadata": {},
   "source": [
    "## A brief look at the data"
   ]
  },
  {
   "cell_type": "code",
   "execution_count": null,
   "id": "db54beab-b52f-48cf-a3ef-6d0457224ba1",
   "metadata": {},
   "outputs": [],
   "source": []
  },
  {
   "cell_type": "markdown",
   "id": "0ef10370-c6ad-462b-a7a8-7a2e751dee4c",
   "metadata": {},
   "source": [
    "## A summary of the data"
   ]
  },
  {
   "cell_type": "code",
   "execution_count": null,
   "id": "05099b65-c2b9-4f45-8a1b-6fbd9e1f07c4",
   "metadata": {},
   "outputs": [],
   "source": []
  },
  {
   "cell_type": "markdown",
   "id": "a1b220a4-2315-4861-8d1b-20630bb73bef",
   "metadata": {},
   "source": [
    "# Explore"
   ]
  },
  {
   "cell_type": "markdown",
   "id": "31c0ad74-fd8c-4719-900a-e07895ff72be",
   "metadata": {},
   "source": [
    "## Question 1: Which lesson appears to attract the most traffic consistently across cohorts (per program)?"
   ]
  },
  {
   "cell_type": "code",
   "execution_count": null,
   "id": "ab86ba61-4269-480c-8df5-9c2b772e4e75",
   "metadata": {},
   "outputs": [],
   "source": []
  },
  {
   "cell_type": "markdown",
   "id": "c4192b03-4c0a-49a4-becd-9d5e975c3d3c",
   "metadata": {},
   "source": [
    "<div class=\"alert alert-block alert-warning\">\n",
    "\n",
    "# summarize...\n",
    "\n",
    "</div>"
   ]
  },
  {
   "cell_type": "markdown",
   "id": "9a7468e4-bc7a-4d29-9dd8-2bf485df75b3",
   "metadata": {},
   "source": [
    "## Question 2: Is there a cohort that referred to a lesson significantly more than other cohorts seemed to gloss over?"
   ]
  },
  {
   "cell_type": "code",
   "execution_count": null,
   "id": "b73e28f0-c1cf-473c-9dab-47ddb1d35745",
   "metadata": {},
   "outputs": [],
   "source": []
  },
  {
   "cell_type": "code",
   "execution_count": null,
   "id": "8038fd54-5fec-44e5-abb0-8a3d134fbae9",
   "metadata": {},
   "outputs": [],
   "source": []
  },
  {
   "cell_type": "markdown",
   "id": "6bb30871-6c3a-4bc8-9716-84c6b30e808b",
   "metadata": {},
   "source": [
    "<div class=\"alert alert-block alert-warning\">\n",
    "\n",
    "# summarize...\n",
    "\n",
    "</div>"
   ]
  },
  {
   "cell_type": "markdown",
   "id": "b7285a84-be44-45fd-99cd-79028213b8a7",
   "metadata": {},
   "source": [
    "## Question 3: Are there students who, when active, hardly access the curriculum? If so, what information do you have about these students?"
   ]
  },
  {
   "cell_type": "code",
   "execution_count": null,
   "id": "80a19c56-3a17-4f87-86b1-f67ca1eb0db1",
   "metadata": {},
   "outputs": [],
   "source": []
  },
  {
   "cell_type": "code",
   "execution_count": null,
   "id": "0b42068b-d53e-4951-a41e-99d468c61f0a",
   "metadata": {},
   "outputs": [],
   "source": []
  },
  {
   "cell_type": "markdown",
   "id": "23df55db-28e1-438e-b09f-94c51dcc35fa",
   "metadata": {},
   "source": [
    "<div class=\"alert alert-block alert-warning\">\n",
    "\n",
    "# summarize...\n",
    "\n",
    "</div>"
   ]
  },
  {
   "cell_type": "markdown",
   "id": "34882e5e-80ff-4d44-b9bd-f2d61b58faf9",
   "metadata": {},
   "source": [
    "## Question 4: What topics are grads continuing to reference after graduation and into their jobs (for each program)?"
   ]
  },
  {
   "cell_type": "code",
   "execution_count": null,
   "id": "c78bf652-3cf1-4421-9904-510679a73b14",
   "metadata": {},
   "outputs": [],
   "source": []
  },
  {
   "cell_type": "code",
   "execution_count": null,
   "id": "d1e85bd7-883b-4909-99a8-777b9d90c691",
   "metadata": {},
   "outputs": [],
   "source": []
  },
  {
   "cell_type": "markdown",
   "id": "ac111cc0-2229-48b1-9a4c-ab0424716a5b",
   "metadata": {},
   "source": [
    "<div class=\"alert alert-block alert-warning\">\n",
    "\n",
    "# summarize...\n",
    "\n",
    "</div>"
   ]
  },
  {
   "cell_type": "markdown",
   "id": "29025acf-ddc3-4142-90e3-684997d7d621",
   "metadata": {},
   "source": [
    "## Question 5: Which lessons are least accessed?"
   ]
  },
  {
   "cell_type": "code",
   "execution_count": null,
   "id": "e8af2795-0877-413f-a9bc-b1885a742d66",
   "metadata": {},
   "outputs": [],
   "source": []
  },
  {
   "cell_type": "code",
   "execution_count": null,
   "id": "de757f44-8781-4c05-8561-b0412b9e6db7",
   "metadata": {},
   "outputs": [],
   "source": []
  },
  {
   "cell_type": "markdown",
   "id": "4039ff84-4dbc-4a12-b527-16d8f8c99119",
   "metadata": {},
   "source": [
    "<div class=\"alert alert-block alert-warning\">\n",
    "\n",
    "# summarize...\n",
    "\n",
    "</div>"
   ]
  },
  {
   "cell_type": "markdown",
   "id": "42544a4f-4808-4390-83e1-7e986e551d88",
   "metadata": {},
   "source": [
    "## Exploration Summary\n",
    "*\n",
    "*\n",
    "*\n",
    "*"
   ]
  },
  {
   "cell_type": "markdown",
   "id": "fc915aa3-d11b-400a-ac75-af04c64c8439",
   "metadata": {},
   "source": [
    "# Conclusions\n",
    "*\n",
    "*\n",
    "*\n",
    "*"
   ]
  },
  {
   "cell_type": "markdown",
   "id": "471e1f0a-d7af-4c74-8257-7af3baf5147d",
   "metadata": {},
   "source": [
    "# Recommendations\n",
    "*\n",
    "*"
   ]
  },
  {
   "cell_type": "code",
   "execution_count": null,
   "id": "191b0d97-7dd9-45e7-a6b8-30f866931c48",
   "metadata": {},
   "outputs": [],
   "source": []
  }
 ],
 "metadata": {
  "kernelspec": {
   "display_name": "Python 3 (ipykernel)",
   "language": "python",
   "name": "python3"
  },
  "language_info": {
   "codemirror_mode": {
    "name": "ipython",
    "version": 3
   },
   "file_extension": ".py",
   "mimetype": "text/x-python",
   "name": "python",
   "nbconvert_exporter": "python",
   "pygments_lexer": "ipython3",
   "version": "3.9.13"
  }
 },
 "nbformat": 4,
 "nbformat_minor": 5
}
