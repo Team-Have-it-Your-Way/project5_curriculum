{
 "cells": [
  {
   "cell_type": "code",
   "execution_count": 1,
   "id": "d5bfcb10",
   "metadata": {},
   "outputs": [],
   "source": [
    "import warnings\n",
    "warnings.filterwarnings(\"ignore\")\n",
    "import pandas as pd\n",
    "import numpy as np\n",
    "\n",
    "import wrangle as w"
   ]
  },
  {
   "cell_type": "code",
   "execution_count": 9,
   "id": "fecffee7",
   "metadata": {},
   "outputs": [],
   "source": [
    "# acquire data\n",
    "w.acquire_df()\n",
    "df = w.prepare_df()"
   ]
  },
  {
   "cell_type": "code",
   "execution_count": 10,
   "id": "83df2147",
   "metadata": {},
   "outputs": [
    {
     "data": {
      "text/html": [
       "<div>\n",
       "<style scoped>\n",
       "    .dataframe tbody tr th:only-of-type {\n",
       "        vertical-align: middle;\n",
       "    }\n",
       "\n",
       "    .dataframe tbody tr th {\n",
       "        vertical-align: top;\n",
       "    }\n",
       "\n",
       "    .dataframe thead th {\n",
       "        text-align: right;\n",
       "    }\n",
       "</style>\n",
       "<table border=\"1\" class=\"dataframe\">\n",
       "  <thead>\n",
       "    <tr style=\"text-align: right;\">\n",
       "      <th></th>\n",
       "      <th>cohort_id</th>\n",
       "      <th>cohort_name</th>\n",
       "      <th>start_date</th>\n",
       "      <th>end_date</th>\n",
       "      <th>program_id</th>\n",
       "      <th>dates</th>\n",
       "      <th>time</th>\n",
       "      <th>endpoint</th>\n",
       "      <th>user_id</th>\n",
       "      <th>ip</th>\n",
       "    </tr>\n",
       "  </thead>\n",
       "  <tbody>\n",
       "  </tbody>\n",
       "</table>\n",
       "</div>"
      ],
      "text/plain": [
       "Empty DataFrame\n",
       "Columns: [cohort_id, cohort_name, start_date, end_date, program_id, dates, time, endpoint, user_id, ip]\n",
       "Index: []"
      ]
     },
     "execution_count": 10,
     "metadata": {},
     "output_type": "execute_result"
    }
   ],
   "source": [
    "df[df.user_id == 0]"
   ]
  },
  {
   "cell_type": "code",
   "execution_count": 22,
   "id": "4495de44",
   "metadata": {},
   "outputs": [
    {
     "data": {
      "text/plain": [
       "array([ 11,  60,  64,  95, 141, 146, 148, 170, 209, 211, 212, 248, 257,\n",
       "       312, 313, 316, 398, 402])"
      ]
     },
     "execution_count": 22,
     "metadata": {},
     "output_type": "execute_result"
    }
   ],
   "source": [
    "# preview data\n",
    "df[df.cohort_id == 1].user_id.unique()"
   ]
  },
  {
   "cell_type": "code",
   "execution_count": null,
   "id": "88e87465",
   "metadata": {},
   "outputs": [],
   "source": [
    "# check for staff"
   ]
  },
  {
   "cell_type": "code",
   "execution_count": 12,
   "id": "22ed8dcc",
   "metadata": {},
   "outputs": [
    {
     "name": "stdout",
     "output_type": "stream",
     "text": [
      "<class 'pandas.core.frame.DataFrame'>\n",
      "Int64Index: 900222 entries, 0 to 900221\n",
      "Data columns (total 10 columns):\n",
      " #   Column       Non-Null Count   Dtype         \n",
      "---  ------       --------------   -----         \n",
      " 0   cohort_id    900222 non-null  float64       \n",
      " 1   cohort_name  847329 non-null  object        \n",
      " 2   start_date   847329 non-null  datetime64[ns]\n",
      " 3   end_date     847329 non-null  datetime64[ns]\n",
      " 4   program_id   847329 non-null  float64       \n",
      " 5   dates        900222 non-null  datetime64[ns]\n",
      " 6   time         900222 non-null  object        \n",
      " 7   endpoint     900222 non-null  object        \n",
      " 8   user_id      900222 non-null  int64         \n",
      " 9   ip           900222 non-null  object        \n",
      "dtypes: datetime64[ns](3), float64(2), int64(1), object(4)\n",
      "memory usage: 75.5+ MB\n"
     ]
    }
   ],
   "source": [
    "# df info\n",
    "df.info()"
   ]
  },
  {
   "cell_type": "code",
   "execution_count": 13,
   "id": "7ccb33ec",
   "metadata": {},
   "outputs": [
    {
     "data": {
      "text/html": [
       "<div>\n",
       "<style scoped>\n",
       "    .dataframe tbody tr th:only-of-type {\n",
       "        vertical-align: middle;\n",
       "    }\n",
       "\n",
       "    .dataframe tbody tr th {\n",
       "        vertical-align: top;\n",
       "    }\n",
       "\n",
       "    .dataframe thead th {\n",
       "        text-align: right;\n",
       "    }\n",
       "</style>\n",
       "<table border=\"1\" class=\"dataframe\">\n",
       "  <thead>\n",
       "    <tr style=\"text-align: right;\">\n",
       "      <th></th>\n",
       "      <th>cohort_id</th>\n",
       "      <th>program_id</th>\n",
       "      <th>user_id</th>\n",
       "    </tr>\n",
       "  </thead>\n",
       "  <tbody>\n",
       "    <tr>\n",
       "      <th>count</th>\n",
       "      <td>900222.000000</td>\n",
       "      <td>847329.000000</td>\n",
       "      <td>900222.000000</td>\n",
       "    </tr>\n",
       "    <tr>\n",
       "      <th>mean</th>\n",
       "      <td>45.651338</td>\n",
       "      <td>2.086003</td>\n",
       "      <td>458.825565</td>\n",
       "    </tr>\n",
       "    <tr>\n",
       "      <th>std</th>\n",
       "      <td>33.800052</td>\n",
       "      <td>0.388230</td>\n",
       "      <td>249.296870</td>\n",
       "    </tr>\n",
       "    <tr>\n",
       "      <th>min</th>\n",
       "      <td>0.000000</td>\n",
       "      <td>1.000000</td>\n",
       "      <td>1.000000</td>\n",
       "    </tr>\n",
       "    <tr>\n",
       "      <th>25%</th>\n",
       "      <td>26.000000</td>\n",
       "      <td>2.000000</td>\n",
       "      <td>269.000000</td>\n",
       "    </tr>\n",
       "    <tr>\n",
       "      <th>50%</th>\n",
       "      <td>33.000000</td>\n",
       "      <td>2.000000</td>\n",
       "      <td>475.000000</td>\n",
       "    </tr>\n",
       "    <tr>\n",
       "      <th>75%</th>\n",
       "      <td>57.000000</td>\n",
       "      <td>2.000000</td>\n",
       "      <td>660.000000</td>\n",
       "    </tr>\n",
       "    <tr>\n",
       "      <th>max</th>\n",
       "      <td>139.000000</td>\n",
       "      <td>4.000000</td>\n",
       "      <td>981.000000</td>\n",
       "    </tr>\n",
       "  </tbody>\n",
       "</table>\n",
       "</div>"
      ],
      "text/plain": [
       "           cohort_id     program_id        user_id\n",
       "count  900222.000000  847329.000000  900222.000000\n",
       "mean       45.651338       2.086003     458.825565\n",
       "std        33.800052       0.388230     249.296870\n",
       "min         0.000000       1.000000       1.000000\n",
       "25%        26.000000       2.000000     269.000000\n",
       "50%        33.000000       2.000000     475.000000\n",
       "75%        57.000000       2.000000     660.000000\n",
       "max       139.000000       4.000000     981.000000"
      ]
     },
     "execution_count": 13,
     "metadata": {},
     "output_type": "execute_result"
    }
   ],
   "source": [
    "# df describe \n",
    "df.describe()"
   ]
  },
  {
   "cell_type": "code",
   "execution_count": 14,
   "id": "43655ea8",
   "metadata": {},
   "outputs": [
    {
     "data": {
      "text/plain": [
       "cohort_id          0\n",
       "cohort_name    52893\n",
       "start_date     52893\n",
       "end_date       52893\n",
       "program_id     52893\n",
       "dates              0\n",
       "time               0\n",
       "endpoint           0\n",
       "user_id            0\n",
       "ip                 0\n",
       "dtype: int64"
      ]
     },
     "execution_count": 14,
     "metadata": {},
     "output_type": "execute_result"
    }
   ],
   "source": [
    "# view nulls\n",
    "df.isnull().sum()\n",
    "\n",
    "# 1 null in endpoint and 52893 in cohort"
   ]
  },
  {
   "cell_type": "code",
   "execution_count": 15,
   "id": "78280799",
   "metadata": {},
   "outputs": [
    {
     "data": {
      "text/html": [
       "<div>\n",
       "<style scoped>\n",
       "    .dataframe tbody tr th:only-of-type {\n",
       "        vertical-align: middle;\n",
       "    }\n",
       "\n",
       "    .dataframe tbody tr th {\n",
       "        vertical-align: top;\n",
       "    }\n",
       "\n",
       "    .dataframe thead th {\n",
       "        text-align: right;\n",
       "    }\n",
       "</style>\n",
       "<table border=\"1\" class=\"dataframe\">\n",
       "  <thead>\n",
       "    <tr style=\"text-align: right;\">\n",
       "      <th></th>\n",
       "      <th>cohort_id</th>\n",
       "      <th>cohort_name</th>\n",
       "      <th>start_date</th>\n",
       "      <th>end_date</th>\n",
       "      <th>program_id</th>\n",
       "      <th>dates</th>\n",
       "      <th>time</th>\n",
       "      <th>endpoint</th>\n",
       "      <th>user_id</th>\n",
       "      <th>ip</th>\n",
       "    </tr>\n",
       "  </thead>\n",
       "  <tbody>\n",
       "  </tbody>\n",
       "</table>\n",
       "</div>"
      ],
      "text/plain": [
       "Empty DataFrame\n",
       "Columns: [cohort_id, cohort_name, start_date, end_date, program_id, dates, time, endpoint, user_id, ip]\n",
       "Index: []"
      ]
     },
     "execution_count": 15,
     "metadata": {},
     "output_type": "execute_result"
    }
   ],
   "source": [
    "# view endpoint null 2020-04-08 09:25:18 user: 586 cohort: 55.0 ip: 72.177.240.51\n",
    "df[df.endpoint.isnull()]"
   ]
  },
  {
   "cell_type": "code",
   "execution_count": 16,
   "id": "5e4a9726",
   "metadata": {},
   "outputs": [
    {
     "ename": "AttributeError",
     "evalue": "'DataFrame' object has no attribute 'cohort'",
     "output_type": "error",
     "traceback": [
      "\u001b[0;31m---------------------------------------------------------------------------\u001b[0m",
      "\u001b[0;31mAttributeError\u001b[0m                            Traceback (most recent call last)",
      "\u001b[0;32m/var/folders/bf/lhpb5n_j1xj4msxy6nrm9h7h0000gn/T/ipykernel_85403/1717072933.py\u001b[0m in \u001b[0;36m<module>\u001b[0;34m\u001b[0m\n\u001b[1;32m      1\u001b[0m \u001b[0;31m# view cohort nulls 78 unique users with cohort nulls -- possibly instructors or admin\u001b[0m\u001b[0;34m\u001b[0m\u001b[0;34m\u001b[0m\u001b[0m\n\u001b[0;32m----> 2\u001b[0;31m \u001b[0mcohort_nulls\u001b[0m \u001b[0;34m=\u001b[0m \u001b[0mdf\u001b[0m\u001b[0;34m[\u001b[0m\u001b[0mdf\u001b[0m\u001b[0;34m.\u001b[0m\u001b[0mcohort\u001b[0m\u001b[0;34m.\u001b[0m\u001b[0misnull\u001b[0m\u001b[0;34m(\u001b[0m\u001b[0;34m)\u001b[0m\u001b[0;34m]\u001b[0m\u001b[0;34m\u001b[0m\u001b[0;34m\u001b[0m\u001b[0m\n\u001b[0m\u001b[1;32m      3\u001b[0m \u001b[0muser_cohort_null_list\u001b[0m \u001b[0;34m=\u001b[0m \u001b[0mcohort_nulls\u001b[0m\u001b[0;34m.\u001b[0m\u001b[0muser_id\u001b[0m\u001b[0;34m.\u001b[0m\u001b[0munique\u001b[0m\u001b[0;34m(\u001b[0m\u001b[0;34m)\u001b[0m\u001b[0;34m\u001b[0m\u001b[0;34m\u001b[0m\u001b[0m\n",
      "\u001b[0;32m/usr/local/anaconda3/lib/python3.9/site-packages/pandas/core/generic.py\u001b[0m in \u001b[0;36m__getattr__\u001b[0;34m(self, name)\u001b[0m\n\u001b[1;32m   5573\u001b[0m         ):\n\u001b[1;32m   5574\u001b[0m             \u001b[0;32mreturn\u001b[0m \u001b[0mself\u001b[0m\u001b[0;34m[\u001b[0m\u001b[0mname\u001b[0m\u001b[0;34m]\u001b[0m\u001b[0;34m\u001b[0m\u001b[0;34m\u001b[0m\u001b[0m\n\u001b[0;32m-> 5575\u001b[0;31m         \u001b[0;32mreturn\u001b[0m \u001b[0mobject\u001b[0m\u001b[0;34m.\u001b[0m\u001b[0m__getattribute__\u001b[0m\u001b[0;34m(\u001b[0m\u001b[0mself\u001b[0m\u001b[0;34m,\u001b[0m \u001b[0mname\u001b[0m\u001b[0;34m)\u001b[0m\u001b[0;34m\u001b[0m\u001b[0;34m\u001b[0m\u001b[0m\n\u001b[0m\u001b[1;32m   5576\u001b[0m \u001b[0;34m\u001b[0m\u001b[0m\n\u001b[1;32m   5577\u001b[0m     \u001b[0;32mdef\u001b[0m \u001b[0m__setattr__\u001b[0m\u001b[0;34m(\u001b[0m\u001b[0mself\u001b[0m\u001b[0;34m,\u001b[0m \u001b[0mname\u001b[0m\u001b[0;34m:\u001b[0m \u001b[0mstr\u001b[0m\u001b[0;34m,\u001b[0m \u001b[0mvalue\u001b[0m\u001b[0;34m)\u001b[0m \u001b[0;34m->\u001b[0m \u001b[0;32mNone\u001b[0m\u001b[0;34m:\u001b[0m\u001b[0;34m\u001b[0m\u001b[0;34m\u001b[0m\u001b[0m\n",
      "\u001b[0;31mAttributeError\u001b[0m: 'DataFrame' object has no attribute 'cohort'"
     ]
    }
   ],
   "source": [
    "# view cohort nulls 78 unique users with cohort nulls -- possibly instructors or admin\n",
    "cohort_nulls = df[df.cohort.isnull()]\n",
    "user_cohort_null_list = cohort_nulls.user_id.unique()"
   ]
  },
  {
   "cell_type": "code",
   "execution_count": null,
   "id": "7b0b2dcc",
   "metadata": {},
   "outputs": [],
   "source": [
    "# checks to see if user id has nothing but nans for cohort and places into nan_only list or nan_and_other\n",
    "nan_only = []\n",
    "nan_and_other = []\n",
    "\n",
    "for u in user_cohort_null_list:\n",
    "    null_cohort = df[df.user_id == u].cohort.unique()\n",
    "    \n",
    "    if np.isnan(null_cohort).all():\n",
    "        nan_only.append(u)\n",
    "    else:\n",
    "        nan_and_other.append(u)\n"
   ]
  },
  {
   "cell_type": "code",
   "execution_count": null,
   "id": "e4b01519",
   "metadata": {},
   "outputs": [],
   "source": [
    "# there are 8 \n",
    "len(nan_and_other)\n",
    "nan_and_other"
   ]
  },
  {
   "cell_type": "code",
   "execution_count": null,
   "id": "7dc4fafe",
   "metadata": {},
   "outputs": [],
   "source": [
    "# check ids and cohorts\n",
    "for u in nan_and_other:\n",
    "    print(u)\n",
    "    print(df[df.user_id == u].cohort.unique())\n",
    "    \n",
    "# 358, 375, 644, 744 only had one cohort\n",
    "# all other ids have multiple cohorts"
   ]
  },
  {
   "cell_type": "code",
   "execution_count": null,
   "id": "fb6a7249",
   "metadata": {},
   "outputs": [],
   "source": [
    "# there are 70 ids with no cohort attached\n",
    "len(nan_only)"
   ]
  },
  {
   "cell_type": "markdown",
   "id": "0df47fb1",
   "metadata": {},
   "source": [
    "**Question**\n",
    "> If someone graduates will they always have that same cohort attached to them even after graduation?\n",
    "\n",
    "> how many cohorts are there?\n",
    "\n",
    "> how many people are in each cohort?\n"
   ]
  },
  {
   "cell_type": "code",
   "execution_count": null,
   "id": "61b80aab",
   "metadata": {},
   "outputs": [],
   "source": [
    "# how many cohorts are there?\n",
    "# 47 cohorts minus the nan\n",
    "\n",
    "# list of cohorts\n",
    "cohort_list = list(df.cohort.unique())"
   ]
  },
  {
   "cell_type": "code",
   "execution_count": null,
   "id": "ce96c318",
   "metadata": {},
   "outputs": [],
   "source": [
    "# cohort names ids\n",
    "cohort_df = pd.read_csv(\"curriculum_logs_cohorts.csv\")"
   ]
  },
  {
   "cell_type": "code",
   "execution_count": null,
   "id": "5e258a00",
   "metadata": {
    "scrolled": true
   },
   "outputs": [],
   "source": [
    "# how many people are in each cohort?\n",
    "# number cohort and number of users\n",
    "for n in cohort_list:\n",
    "    print(f\"Cohort: {n}\")\n",
    "    users_of_cohort = df[df.cohort == n].user_id.unique()\n",
    "    print(f\"Number of Users: {len(users_of_cohort)}\")\n"
   ]
  },
  {
   "cell_type": "code",
   "execution_count": null,
   "id": "8f4669d8",
   "metadata": {},
   "outputs": [],
   "source": [
    "# user_ids in each cohort\n",
    "cohort_dict = {}\n",
    "\n",
    "for n in cohort_list:\n",
    "    users_of_cohort = df[df.cohort == n].user_id.unique()\n",
    "    users_of_cohort = list(users_of_cohort) \n",
    "    cohort_dict[n] = users_of_cohort\n",
    "\n",
    "cohort_dict"
   ]
  },
  {
   "cell_type": "code",
   "execution_count": null,
   "id": "13ec9803",
   "metadata": {},
   "outputs": [],
   "source": [
    "# change cohort nulls to 0\n",
    "df.cohort = df.cohort.fillna(0)"
   ]
  },
  {
   "cell_type": "code",
   "execution_count": null,
   "id": "3adab370",
   "metadata": {},
   "outputs": [],
   "source": [
    "# drop 1 null in endpoint\n",
    "df = df.dropna()"
   ]
  },
  {
   "cell_type": "code",
   "execution_count": null,
   "id": "f94a00f8",
   "metadata": {},
   "outputs": [],
   "source": [
    "# Remove '\\t\\t' character from col1\n",
    "df.dates = df.dates.str.replace(\"\\t\\t\", \"\")\n",
    "df"
   ]
  },
  {
   "cell_type": "code",
   "execution_count": null,
   "id": "c3309736",
   "metadata": {},
   "outputs": [],
   "source": [
    "# check nulls\n",
    "df.isnull().sum()"
   ]
  },
  {
   "cell_type": "code",
   "execution_count": null,
   "id": "88dd676d",
   "metadata": {},
   "outputs": [],
   "source": [
    "pd.set_option('display.max_colwidth',1000)\n",
    "# finding unique pages -- 2313 pages\n",
    "df.endpoint.value_counts()"
   ]
  },
  {
   "cell_type": "code",
   "execution_count": null,
   "id": "dbbfff8f",
   "metadata": {},
   "outputs": [],
   "source": [
    "js_result = df[df['endpoint'].str.startswith('javascript')]"
   ]
  },
  {
   "cell_type": "code",
   "execution_count": null,
   "id": "fdee9c16",
   "metadata": {},
   "outputs": [],
   "source": [
    "js_result.columns\n"
   ]
  },
  {
   "cell_type": "code",
   "execution_count": null,
   "id": "4f4d71ae",
   "metadata": {},
   "outputs": [],
   "source": [
    "# rename cohort to id to match \n",
    "temp_df = df.copy()"
   ]
  },
  {
   "cell_type": "code",
   "execution_count": null,
   "id": "82d45d7e",
   "metadata": {},
   "outputs": [],
   "source": [
    "# cohort names ids\n",
    "cohort_df = pd.read_csv(\"curriculum_logs_cohorts.csv\")"
   ]
  },
  {
   "cell_type": "code",
   "execution_count": null,
   "id": "2840d57b",
   "metadata": {},
   "outputs": [],
   "source": [
    "cohort_df.columns"
   ]
  },
  {
   "cell_type": "code",
   "execution_count": null,
   "id": "fbbaa18e",
   "metadata": {},
   "outputs": [],
   "source": [
    "cohort_df = cohort_df.rename(columns = {\"id\": \"cohort\"})"
   ]
  },
  {
   "cell_type": "code",
   "execution_count": null,
   "id": "ac738d95",
   "metadata": {},
   "outputs": [],
   "source": [
    "cohort_df"
   ]
  },
  {
   "cell_type": "code",
   "execution_count": null,
   "id": "593d2ce7",
   "metadata": {},
   "outputs": [],
   "source": [
    "temp_df"
   ]
  },
  {
   "cell_type": "code",
   "execution_count": null,
   "id": "2b5519b1",
   "metadata": {},
   "outputs": [],
   "source": []
  },
  {
   "cell_type": "code",
   "execution_count": null,
   "id": "8801115e",
   "metadata": {},
   "outputs": [],
   "source": [
    "df = pd.merge(cohort_df, temp_df,  on=['cohort'], how='inner')"
   ]
  },
  {
   "cell_type": "code",
   "execution_count": null,
   "id": "6cc118a0",
   "metadata": {},
   "outputs": [],
   "source": [
    "df"
   ]
  },
  {
   "cell_type": "code",
   "execution_count": null,
   "id": "b253dcf0",
   "metadata": {},
   "outputs": [],
   "source": [
    "# rename columns 'cohort', 'cohort_name', 'time', 'endpoint', 'user_id', 'cohort', 'ip' 'start_date', 'end_date', 'program_id'\n",
    "df = df.drop(columns=[ 'slack',  'created_at', 'updated_at', 'deleted_at'])"
   ]
  },
  {
   "cell_type": "code",
   "execution_count": null,
   "id": "09ce87c2",
   "metadata": {},
   "outputs": [],
   "source": [
    "df.info()"
   ]
  },
  {
   "cell_type": "code",
   "execution_count": null,
   "id": "0acd337c",
   "metadata": {},
   "outputs": [],
   "source": [
    "df.start_date = df.start_date.astype(\"datetime64\")\n",
    "df.end_date = df.end_date.astype(\"datetime64\")"
   ]
  },
  {
   "cell_type": "code",
   "execution_count": null,
   "id": "8700bddd",
   "metadata": {},
   "outputs": [],
   "source": []
  },
  {
   "cell_type": "code",
   "execution_count": null,
   "id": "aedb53a2",
   "metadata": {},
   "outputs": [],
   "source": [
    "# update dtype for dates to datetime64\n",
    "df.dates = df.dates.astype(\"datetime64\")"
   ]
  },
  {
   "cell_type": "code",
   "execution_count": null,
   "id": "fb62b622",
   "metadata": {},
   "outputs": [],
   "source": [
    "df.info()"
   ]
  },
  {
   "cell_type": "code",
   "execution_count": null,
   "id": "9089129c",
   "metadata": {},
   "outputs": [],
   "source": [
    "def prepare_df():\n",
    "    # read df\n",
    "    df = w.acquire_df()\n",
    "    # ----handle nulls\n",
    "    # change cohort nulls to 0\n",
    "    df.cohort = df.cohort.fillna(0)\n",
    "    \n",
    "    \n",
    "\n",
    "    # drop 1 null in endpoint\n",
    "    df = df.dropna()\n",
    "\n",
    "    # Remove '\\t\\t' character from col1\n",
    "    df.dates = df.dates.str.replace(\"\\t\\t\", \"\")\n",
    "    \n",
    "\n",
    "    # read cohort df\n",
    "    cohort_df = pd.read_csv(\"curriculum_logs_cohorts.csv\")\n",
    "    \n",
    "    # ----- merge tables\n",
    "    # rename id to cohort to match\n",
    "    cohort_df = cohort_df.rename(columns = {\"id\": \"cohort\"})\n",
    "\n",
    "    # merge on cohort\n",
    "    df = pd.merge(cohort_df, df,  on=['cohort'], how='right')\n",
    "\n",
    "    # drop columns\n",
    "    df = df.drop(columns=[ 'slack',  'created_at', 'updated_at', 'deleted_at'])\n",
    "\n",
    "    # update dtype for dates to datetime64\n",
    "    df.start_date = df.start_date.astype(\"datetime64\")\n",
    "    df.end_date = df.end_date.astype(\"datetime64\")\n",
    "    df.dates = df.dates.astype(\"datetime64\")\n",
    "\n",
    "    return df  \n"
   ]
  },
  {
   "cell_type": "code",
   "execution_count": null,
   "id": "832cc4d9",
   "metadata": {},
   "outputs": [],
   "source": [
    "prepare_df()"
   ]
  },
  {
   "cell_type": "code",
   "execution_count": null,
   "id": "e0c7e231",
   "metadata": {},
   "outputs": [],
   "source": [
    "w.prepare_df()"
   ]
  },
  {
   "cell_type": "code",
   "execution_count": null,
   "id": "b170e6c7",
   "metadata": {},
   "outputs": [],
   "source": []
  }
 ],
 "metadata": {
  "kernelspec": {
   "display_name": "Python 3 (ipykernel)",
   "language": "python",
   "name": "python3"
  },
  "language_info": {
   "codemirror_mode": {
    "name": "ipython",
    "version": 3
   },
   "file_extension": ".py",
   "mimetype": "text/x-python",
   "name": "python",
   "nbconvert_exporter": "python",
   "pygments_lexer": "ipython3",
   "version": "3.9.13"
  }
 },
 "nbformat": 4,
 "nbformat_minor": 5
}
