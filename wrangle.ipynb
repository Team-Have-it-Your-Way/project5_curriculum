{
 "cells": [
  {
   "cell_type": "code",
   "execution_count": 1,
   "id": "50e79d5e",
   "metadata": {},
   "outputs": [],
   "source": [
    "import warnings\n",
    "warnings.filterwarnings(\"ignore\")\n",
    "import pandas as pd\n",
    "import numpy as np\n",
    "\n",
    "import wrangle as w"
   ]
  },
  {
   "cell_type": "code",
   "execution_count": 2,
   "id": "c889be40",
   "metadata": {},
   "outputs": [
    {
     "data": {
      "text/html": [
       "<div>\n",
       "<style scoped>\n",
       "    .dataframe tbody tr th:only-of-type {\n",
       "        vertical-align: middle;\n",
       "    }\n",
       "\n",
       "    .dataframe tbody tr th {\n",
       "        vertical-align: top;\n",
       "    }\n",
       "\n",
       "    .dataframe thead th {\n",
       "        text-align: right;\n",
       "    }\n",
       "</style>\n",
       "<table border=\"1\" class=\"dataframe\">\n",
       "  <thead>\n",
       "    <tr style=\"text-align: right;\">\n",
       "      <th></th>\n",
       "      <th>cohort_id</th>\n",
       "      <th>cohort_name</th>\n",
       "      <th>start_date</th>\n",
       "      <th>end_date</th>\n",
       "      <th>program_id</th>\n",
       "      <th>dates</th>\n",
       "      <th>time</th>\n",
       "      <th>endpoint</th>\n",
       "      <th>user_id</th>\n",
       "      <th>ip</th>\n",
       "    </tr>\n",
       "  </thead>\n",
       "  <tbody>\n",
       "    <tr>\n",
       "      <th>0</th>\n",
       "      <td>8.0</td>\n",
       "      <td>Hampton</td>\n",
       "      <td>2015-09-22</td>\n",
       "      <td>2016-02-06</td>\n",
       "      <td>1.0</td>\n",
       "      <td>2018-01-26</td>\n",
       "      <td>09:55:03</td>\n",
       "      <td>/</td>\n",
       "      <td>1</td>\n",
       "      <td>97.105.19.61</td>\n",
       "    </tr>\n",
       "    <tr>\n",
       "      <th>1</th>\n",
       "      <td>8.0</td>\n",
       "      <td>Hampton</td>\n",
       "      <td>2015-09-22</td>\n",
       "      <td>2016-02-06</td>\n",
       "      <td>1.0</td>\n",
       "      <td>2018-01-26</td>\n",
       "      <td>09:56:02</td>\n",
       "      <td>java-ii</td>\n",
       "      <td>1</td>\n",
       "      <td>97.105.19.61</td>\n",
       "    </tr>\n",
       "    <tr>\n",
       "      <th>2</th>\n",
       "      <td>8.0</td>\n",
       "      <td>Hampton</td>\n",
       "      <td>2015-09-22</td>\n",
       "      <td>2016-02-06</td>\n",
       "      <td>1.0</td>\n",
       "      <td>2018-01-26</td>\n",
       "      <td>09:56:05</td>\n",
       "      <td>java-ii/object-oriented-programming</td>\n",
       "      <td>1</td>\n",
       "      <td>97.105.19.61</td>\n",
       "    </tr>\n",
       "    <tr>\n",
       "      <th>3</th>\n",
       "      <td>8.0</td>\n",
       "      <td>Hampton</td>\n",
       "      <td>2015-09-22</td>\n",
       "      <td>2016-02-06</td>\n",
       "      <td>1.0</td>\n",
       "      <td>2018-01-26</td>\n",
       "      <td>09:56:06</td>\n",
       "      <td>slides/object_oriented_programming</td>\n",
       "      <td>1</td>\n",
       "      <td>97.105.19.61</td>\n",
       "    </tr>\n",
       "    <tr>\n",
       "      <th>4</th>\n",
       "      <td>22.0</td>\n",
       "      <td>Teddy</td>\n",
       "      <td>2018-01-08</td>\n",
       "      <td>2018-05-17</td>\n",
       "      <td>2.0</td>\n",
       "      <td>2018-01-26</td>\n",
       "      <td>09:56:24</td>\n",
       "      <td>javascript-i/conditionals</td>\n",
       "      <td>2</td>\n",
       "      <td>97.105.19.61</td>\n",
       "    </tr>\n",
       "    <tr>\n",
       "      <th>...</th>\n",
       "      <td>...</td>\n",
       "      <td>...</td>\n",
       "      <td>...</td>\n",
       "      <td>...</td>\n",
       "      <td>...</td>\n",
       "      <td>...</td>\n",
       "      <td>...</td>\n",
       "      <td>...</td>\n",
       "      <td>...</td>\n",
       "      <td>...</td>\n",
       "    </tr>\n",
       "    <tr>\n",
       "      <th>900217</th>\n",
       "      <td>28.0</td>\n",
       "      <td>Staff</td>\n",
       "      <td>2014-02-04</td>\n",
       "      <td>2014-02-04</td>\n",
       "      <td>2.0</td>\n",
       "      <td>2021-04-21</td>\n",
       "      <td>16:41:51</td>\n",
       "      <td>jquery/personal-site</td>\n",
       "      <td>64</td>\n",
       "      <td>71.150.217.33</td>\n",
       "    </tr>\n",
       "    <tr>\n",
       "      <th>900218</th>\n",
       "      <td>28.0</td>\n",
       "      <td>Staff</td>\n",
       "      <td>2014-02-04</td>\n",
       "      <td>2014-02-04</td>\n",
       "      <td>2.0</td>\n",
       "      <td>2021-04-21</td>\n",
       "      <td>16:42:02</td>\n",
       "      <td>jquery/mapbox-api</td>\n",
       "      <td>64</td>\n",
       "      <td>71.150.217.33</td>\n",
       "    </tr>\n",
       "    <tr>\n",
       "      <th>900219</th>\n",
       "      <td>28.0</td>\n",
       "      <td>Staff</td>\n",
       "      <td>2014-02-04</td>\n",
       "      <td>2014-02-04</td>\n",
       "      <td>2.0</td>\n",
       "      <td>2021-04-21</td>\n",
       "      <td>16:42:09</td>\n",
       "      <td>jquery/ajax/weather-map</td>\n",
       "      <td>64</td>\n",
       "      <td>71.150.217.33</td>\n",
       "    </tr>\n",
       "    <tr>\n",
       "      <th>900220</th>\n",
       "      <td>28.0</td>\n",
       "      <td>Staff</td>\n",
       "      <td>2014-02-04</td>\n",
       "      <td>2014-02-04</td>\n",
       "      <td>2.0</td>\n",
       "      <td>2021-04-21</td>\n",
       "      <td>16:44:37</td>\n",
       "      <td>anomaly-detection/discrete-probabilistic-methods</td>\n",
       "      <td>744</td>\n",
       "      <td>24.160.137.86</td>\n",
       "    </tr>\n",
       "    <tr>\n",
       "      <th>900221</th>\n",
       "      <td>28.0</td>\n",
       "      <td>Staff</td>\n",
       "      <td>2014-02-04</td>\n",
       "      <td>2014-02-04</td>\n",
       "      <td>2.0</td>\n",
       "      <td>2021-04-21</td>\n",
       "      <td>16:44:39</td>\n",
       "      <td>jquery/mapbox-api</td>\n",
       "      <td>64</td>\n",
       "      <td>71.150.217.33</td>\n",
       "    </tr>\n",
       "  </tbody>\n",
       "</table>\n",
       "<p>900222 rows × 10 columns</p>\n",
       "</div>"
      ],
      "text/plain": [
       "        cohort_id cohort_name start_date   end_date  program_id      dates  \\\n",
       "0             8.0     Hampton 2015-09-22 2016-02-06         1.0 2018-01-26   \n",
       "1             8.0     Hampton 2015-09-22 2016-02-06         1.0 2018-01-26   \n",
       "2             8.0     Hampton 2015-09-22 2016-02-06         1.0 2018-01-26   \n",
       "3             8.0     Hampton 2015-09-22 2016-02-06         1.0 2018-01-26   \n",
       "4            22.0       Teddy 2018-01-08 2018-05-17         2.0 2018-01-26   \n",
       "...           ...         ...        ...        ...         ...        ...   \n",
       "900217       28.0       Staff 2014-02-04 2014-02-04         2.0 2021-04-21   \n",
       "900218       28.0       Staff 2014-02-04 2014-02-04         2.0 2021-04-21   \n",
       "900219       28.0       Staff 2014-02-04 2014-02-04         2.0 2021-04-21   \n",
       "900220       28.0       Staff 2014-02-04 2014-02-04         2.0 2021-04-21   \n",
       "900221       28.0       Staff 2014-02-04 2014-02-04         2.0 2021-04-21   \n",
       "\n",
       "            time                                          endpoint  user_id  \\\n",
       "0       09:55:03                                                 /        1   \n",
       "1       09:56:02                                           java-ii        1   \n",
       "2       09:56:05               java-ii/object-oriented-programming        1   \n",
       "3       09:56:06                slides/object_oriented_programming        1   \n",
       "4       09:56:24                         javascript-i/conditionals        2   \n",
       "...          ...                                               ...      ...   \n",
       "900217  16:41:51                              jquery/personal-site       64   \n",
       "900218  16:42:02                                 jquery/mapbox-api       64   \n",
       "900219  16:42:09                           jquery/ajax/weather-map       64   \n",
       "900220  16:44:37  anomaly-detection/discrete-probabilistic-methods      744   \n",
       "900221  16:44:39                                 jquery/mapbox-api       64   \n",
       "\n",
       "                   ip  \n",
       "0        97.105.19.61  \n",
       "1        97.105.19.61  \n",
       "2        97.105.19.61  \n",
       "3        97.105.19.61  \n",
       "4        97.105.19.61  \n",
       "...               ...  \n",
       "900217  71.150.217.33  \n",
       "900218  71.150.217.33  \n",
       "900219  71.150.217.33  \n",
       "900220  24.160.137.86  \n",
       "900221  71.150.217.33  \n",
       "\n",
       "[900222 rows x 10 columns]"
      ]
     },
     "execution_count": 2,
     "metadata": {},
     "output_type": "execute_result"
    }
   ],
   "source": [
    "# acquire data\n",
    "w.acquire_df()\n",
    "w.prepare_df()"
   ]
  },
  {
   "cell_type": "code",
   "execution_count": 3,
   "id": "18605d74",
   "metadata": {},
   "outputs": [
    {
     "ename": "NameError",
     "evalue": "name 'df' is not defined",
     "output_type": "error",
     "traceback": [
      "\u001b[0;31m---------------------------------------------------------------------------\u001b[0m",
      "\u001b[0;31mNameError\u001b[0m                                 Traceback (most recent call last)",
      "\u001b[0;32m/var/folders/bf/lhpb5n_j1xj4msxy6nrm9h7h0000gn/T/ipykernel_85382/2238965917.py\u001b[0m in \u001b[0;36m<module>\u001b[0;34m\u001b[0m\n\u001b[1;32m      1\u001b[0m \u001b[0;31m# preview data\u001b[0m\u001b[0;34m\u001b[0m\u001b[0;34m\u001b[0m\u001b[0m\n\u001b[0;32m----> 2\u001b[0;31m \u001b[0mdf\u001b[0m\u001b[0;34m.\u001b[0m\u001b[0mhead\u001b[0m\u001b[0;34m(\u001b[0m\u001b[0;34m)\u001b[0m\u001b[0;34m\u001b[0m\u001b[0;34m\u001b[0m\u001b[0m\n\u001b[0m",
      "\u001b[0;31mNameError\u001b[0m: name 'df' is not defined"
     ]
    }
   ],
   "source": [
    "# preview data\n",
    "df.head()"
   ]
  },
  {
   "cell_type": "code",
   "execution_count": null,
   "id": "cc2a826d",
   "metadata": {},
   "outputs": [],
   "source": [
    "# df info\n",
    "df.info()"
   ]
  },
  {
   "cell_type": "code",
   "execution_count": null,
   "id": "c32f96f8",
   "metadata": {},
   "outputs": [],
   "source": [
    "# df describe \n",
    "df.describe()"
   ]
  },
  {
   "cell_type": "code",
   "execution_count": null,
   "id": "1bd2b93d",
   "metadata": {},
   "outputs": [],
   "source": [
    "# view nulls\n",
    "df.isnull().sum()\n",
    "\n",
    "# 1 null in endpoint and 52893 in cohort"
   ]
  },
  {
   "cell_type": "code",
   "execution_count": null,
   "id": "79d11312",
   "metadata": {},
   "outputs": [],
   "source": [
    "# view endpoint null 2020-04-08 09:25:18 user: 586 cohort: 55.0 ip: 72.177.240.51\n",
    "df[df.endpoint.isnull()]"
   ]
  },
  {
   "cell_type": "code",
   "execution_count": null,
   "id": "97d7d2cf",
   "metadata": {},
   "outputs": [],
   "source": [
    "# view cohort nulls 78 unique users with cohort nulls -- possibly instructors or admin\n",
    "cohort_nulls = df[df.cohort.isnull()]\n",
    "user_cohort_null_list = cohort_nulls.user_id.unique()"
   ]
  },
  {
   "cell_type": "code",
   "execution_count": null,
   "id": "7565ea0c",
   "metadata": {},
   "outputs": [],
   "source": [
    "# checks to see if user id has nothing but nans for cohort and places into nan_only list or nan_and_other\n",
    "nan_only = []\n",
    "nan_and_other = []\n",
    "\n",
    "for u in user_cohort_null_list:\n",
    "    null_cohort = df[df.user_id == u].cohort.unique()\n",
    "    \n",
    "    if np.isnan(null_cohort).all():\n",
    "        nan_only.append(u)\n",
    "    else:\n",
    "        nan_and_other.append(u)\n"
   ]
  },
  {
   "cell_type": "code",
   "execution_count": null,
   "id": "ce92060f",
   "metadata": {},
   "outputs": [],
   "source": [
    "# there are 8 \n",
    "len(nan_and_other)\n",
    "nan_and_other"
   ]
  },
  {
   "cell_type": "code",
   "execution_count": null,
   "id": "3758365b",
   "metadata": {},
   "outputs": [],
   "source": [
    "# check ids and cohorts\n",
    "for u in nan_and_other:\n",
    "    print(u)\n",
    "    print(df[df.user_id == u].cohort.unique())\n",
    "    \n",
    "# 358, 375, 644, 744 only had one cohort\n",
    "# all other ids have multiple cohorts"
   ]
  },
  {
   "cell_type": "code",
   "execution_count": null,
   "id": "4d248008",
   "metadata": {},
   "outputs": [],
   "source": [
    "# there are 70 ids with no cohort attached\n",
    "len(nan_only)"
   ]
  },
  {
   "cell_type": "markdown",
   "id": "19c502d5",
   "metadata": {},
   "source": [
    "**Question**\n",
    "> If someone graduates will they always have that same cohort attached to them even after graduation?\n",
    "\n",
    "> how many cohorts are there?\n",
    "\n",
    "> how many people are in each cohort?\n"
   ]
  },
  {
   "cell_type": "code",
   "execution_count": null,
   "id": "df3cf288",
   "metadata": {},
   "outputs": [],
   "source": [
    "# how many cohorts are there?\n",
    "# 47 cohorts minus the nan\n",
    "\n",
    "# list of cohorts\n",
    "cohort_list = list(df.cohort.unique())"
   ]
  },
  {
   "cell_type": "code",
   "execution_count": null,
   "id": "990eec22",
   "metadata": {},
   "outputs": [],
   "source": [
    "# cohort names ids\n",
    "cohort_df = pd.read_csv(\"curriculum_logs_cohorts.csv\")"
   ]
  },
  {
   "cell_type": "code",
   "execution_count": null,
   "id": "ef8a7445",
   "metadata": {
    "scrolled": true
   },
   "outputs": [],
   "source": [
    "# how many people are in each cohort?\n",
    "# number cohort and number of users\n",
    "for n in cohort_list:\n",
    "    print(f\"Cohort: {n}\")\n",
    "    users_of_cohort = df[df.cohort == n].user_id.unique()\n",
    "    print(f\"Number of Users: {len(users_of_cohort)}\")\n"
   ]
  },
  {
   "cell_type": "code",
   "execution_count": null,
   "id": "125997f0",
   "metadata": {},
   "outputs": [],
   "source": [
    "# user_ids in each cohort\n",
    "cohort_dict = {}\n",
    "\n",
    "for n in cohort_list:\n",
    "    users_of_cohort = df[df.cohort == n].user_id.unique()\n",
    "    users_of_cohort = list(users_of_cohort) \n",
    "    cohort_dict[n] = users_of_cohort\n",
    "\n",
    "cohort_dict"
   ]
  },
  {
   "cell_type": "code",
   "execution_count": null,
   "id": "1ff3ac5f",
   "metadata": {},
   "outputs": [],
   "source": [
    "# change cohort nulls to 0\n",
    "df.cohort = df.cohort.fillna(0)"
   ]
  },
  {
   "cell_type": "code",
   "execution_count": null,
   "id": "6bd94ab5",
   "metadata": {},
   "outputs": [],
   "source": [
    "# drop 1 null in endpoint\n",
    "df = df.dropna()"
   ]
  },
  {
   "cell_type": "code",
   "execution_count": null,
   "id": "cd04601a",
   "metadata": {},
   "outputs": [],
   "source": [
    "# Remove '\\t\\t' character from col1\n",
    "df.dates = df.dates.str.replace(\"\\t\\t\", \"\")\n",
    "df"
   ]
  },
  {
   "cell_type": "code",
   "execution_count": null,
   "id": "fa14fc10",
   "metadata": {},
   "outputs": [],
   "source": [
    "# check nulls\n",
    "df.isnull().sum()"
   ]
  },
  {
   "cell_type": "code",
   "execution_count": null,
   "id": "c52fa341",
   "metadata": {},
   "outputs": [],
   "source": [
    "pd.set_option('display.max_colwidth',1000)\n",
    "# finding unique pages -- 2313 pages\n",
    "df.endpoint.value_counts()"
   ]
  },
  {
   "cell_type": "code",
   "execution_count": null,
   "id": "644035ee",
   "metadata": {},
   "outputs": [],
   "source": [
    "js_result = df[df['endpoint'].str.startswith('javascript')]"
   ]
  },
  {
   "cell_type": "code",
   "execution_count": null,
   "id": "64b27104",
   "metadata": {},
   "outputs": [],
   "source": [
    "js_result.columns\n"
   ]
  },
  {
   "cell_type": "code",
   "execution_count": null,
   "id": "cfc2a920",
   "metadata": {},
   "outputs": [],
   "source": [
    "# rename cohort to id to match \n",
    "temp_df = df.copy()"
   ]
  },
  {
   "cell_type": "code",
   "execution_count": null,
   "id": "747884f7",
   "metadata": {},
   "outputs": [],
   "source": [
    "# cohort names ids\n",
    "cohort_df = pd.read_csv(\"curriculum_logs_cohorts.csv\")"
   ]
  },
  {
   "cell_type": "code",
   "execution_count": null,
   "id": "46c59431",
   "metadata": {},
   "outputs": [],
   "source": [
    "cohort_df.columns"
   ]
  },
  {
   "cell_type": "code",
   "execution_count": null,
   "id": "8f8f1237",
   "metadata": {},
   "outputs": [],
   "source": [
    "cohort_df = cohort_df.rename(columns = {\"id\": \"cohort\"})"
   ]
  },
  {
   "cell_type": "code",
   "execution_count": null,
   "id": "c15ec935",
   "metadata": {},
   "outputs": [],
   "source": [
    "cohort_df"
   ]
  },
  {
   "cell_type": "code",
   "execution_count": null,
   "id": "3b30ece4",
   "metadata": {},
   "outputs": [],
   "source": [
    "temp_df"
   ]
  },
  {
   "cell_type": "code",
   "execution_count": null,
   "id": "0fe4a148",
   "metadata": {},
   "outputs": [],
   "source": []
  },
  {
   "cell_type": "code",
   "execution_count": null,
   "id": "36634b6e",
   "metadata": {},
   "outputs": [],
   "source": [
    "df = pd.merge(cohort_df, temp_df,  on=['cohort'], how='inner')"
   ]
  },
  {
   "cell_type": "code",
   "execution_count": null,
   "id": "bd9faf40",
   "metadata": {},
   "outputs": [],
   "source": [
    "df"
   ]
  },
  {
   "cell_type": "code",
   "execution_count": null,
   "id": "9511bb50",
   "metadata": {},
   "outputs": [],
   "source": [
    "# rename columns 'cohort', 'cohort_name', 'time', 'endpoint', 'user_id', 'cohort', 'ip' 'start_date', 'end_date', 'program_id'\n",
    "df = df.drop(columns=[ 'slack',  'created_at', 'updated_at', 'deleted_at'])"
   ]
  },
  {
   "cell_type": "code",
   "execution_count": null,
   "id": "f7be5c67",
   "metadata": {},
   "outputs": [],
   "source": [
    "df.info()"
   ]
  },
  {
   "cell_type": "code",
   "execution_count": null,
   "id": "9ea64c0f",
   "metadata": {},
   "outputs": [],
   "source": [
    "df.start_date = df.start_date.astype(\"datetime64\")\n",
    "df.end_date = df.end_date.astype(\"datetime64\")"
   ]
  },
  {
   "cell_type": "code",
   "execution_count": null,
   "id": "a615b375",
   "metadata": {},
   "outputs": [],
   "source": []
  },
  {
   "cell_type": "code",
   "execution_count": null,
   "id": "98d8e03d",
   "metadata": {},
   "outputs": [],
   "source": [
    "# update dtype for dates to datetime64\n",
    "df.dates = df.dates.astype(\"datetime64\")"
   ]
  },
  {
   "cell_type": "code",
   "execution_count": null,
   "id": "21ecfcd5",
   "metadata": {},
   "outputs": [],
   "source": [
    "df.info()"
   ]
  },
  {
   "cell_type": "code",
   "execution_count": null,
   "id": "06c980f7",
   "metadata": {},
   "outputs": [],
   "source": [
    "def prepare_df():\n",
    "    # read df\n",
    "    df = w.acquire_df()\n",
    "    # ----handle nulls\n",
    "    # change cohort nulls to 0\n",
    "    df.cohort = df.cohort.fillna(0)\n",
    "    \n",
    "    \n",
    "\n",
    "    # drop 1 null in endpoint\n",
    "    df = df.dropna()\n",
    "\n",
    "    # Remove '\\t\\t' character from col1\n",
    "    df.dates = df.dates.str.replace(\"\\t\\t\", \"\")\n",
    "    \n",
    "\n",
    "    # read cohort df\n",
    "    cohort_df = pd.read_csv(\"curriculum_logs_cohorts.csv\")\n",
    "    \n",
    "    # ----- merge tables\n",
    "    # rename id to cohort to match\n",
    "    cohort_df = cohort_df.rename(columns = {\"id\": \"cohort\"})\n",
    "\n",
    "    # merge on cohort\n",
    "    df = pd.merge(cohort_df, df,  on=['cohort'], how='right')\n",
    "\n",
    "    # drop columns\n",
    "    df = df.drop(columns=[ 'slack',  'created_at', 'updated_at', 'deleted_at'])\n",
    "\n",
    "    # update dtype for dates to datetime64\n",
    "    df.start_date = df.start_date.astype(\"datetime64\")\n",
    "    df.end_date = df.end_date.astype(\"datetime64\")\n",
    "    df.dates = df.dates.astype(\"datetime64\")\n",
    "\n",
    "    return df  \n"
   ]
  },
  {
   "cell_type": "code",
   "execution_count": null,
   "id": "db381f46",
   "metadata": {},
   "outputs": [],
   "source": [
    "prepare_df()"
   ]
  },
  {
   "cell_type": "code",
   "execution_count": null,
   "id": "17f0ff17",
   "metadata": {},
   "outputs": [],
   "source": [
    "w.prepare_df()"
   ]
  },
  {
   "cell_type": "code",
   "execution_count": null,
   "id": "0ad89033",
   "metadata": {},
   "outputs": [],
   "source": []
  }
 ],
 "metadata": {
  "kernelspec": {
   "display_name": "Python 3 (ipykernel)",
   "language": "python",
   "name": "python3"
  },
  "language_info": {
   "codemirror_mode": {
    "name": "ipython",
    "version": 3
   },
   "file_extension": ".py",
   "mimetype": "text/x-python",
   "name": "python",
   "nbconvert_exporter": "python",
   "pygments_lexer": "ipython3",
   "version": "3.9.13"
  }
 },
 "nbformat": 4,
 "nbformat_minor": 5
}
