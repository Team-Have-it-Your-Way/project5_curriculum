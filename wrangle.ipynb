{
 "cells": [
  {
   "cell_type": "code",
   "execution_count": 1,
   "id": "a81cfc03",
   "metadata": {},
   "outputs": [],
   "source": [
    "import pandas as pd\n",
    "import numpy as np"
   ]
  },
  {
   "cell_type": "code",
   "execution_count": 2,
   "id": "c73b4b35",
   "metadata": {},
   "outputs": [
    {
     "data": {
      "text/plain": [
       "array(['/', 'java-ii', 'java-ii/object-oriented-programming', ...,\n",
       "       'florence-python-assessment.html', 'javascript-i/dom',\n",
       "       'appendix/professional-development/post-interview-review-form'],\n",
       "      dtype=object)"
      ]
     },
     "execution_count": 2,
     "metadata": {},
     "output_type": "execute_result"
    }
   ],
   "source": [
    "# read csv\n",
    "df = pd.read_csv(\"anonymized-curriculum-access.txt\", sep=\" \", header=None)\n",
    "# rename columns\n",
    "df.columns = [\"dates\", \"time\", \"endpoint\", \"user_id\", \"cohort\", 'ip']\n",
    "# finding unique pages \n",
    "df.endpoint.unique()"
   ]
  },
  {
   "cell_type": "code",
   "execution_count": null,
   "id": "a00e1c6a",
   "metadata": {},
   "outputs": [],
   "source": []
  }
 ],
 "metadata": {
  "kernelspec": {
   "display_name": "Python 3 (ipykernel)",
   "language": "python",
   "name": "python3"
  },
  "language_info": {
   "codemirror_mode": {
    "name": "ipython",
    "version": 3
   },
   "file_extension": ".py",
   "mimetype": "text/x-python",
   "name": "python",
   "nbconvert_exporter": "python",
   "pygments_lexer": "ipython3",
   "version": "3.9.13"
  }
 },
 "nbformat": 4,
 "nbformat_minor": 5
}
