{
 "cells": [
  {
   "cell_type": "code",
   "execution_count": 1,
   "id": "8a26347f",
   "metadata": {},
   "outputs": [],
   "source": [
    "import pandas as pd\n",
    "import numpy as np"
   ]
  },
  {
   "cell_type": "code",
   "execution_count": 2,
   "id": "731f71ec",
   "metadata": {},
   "outputs": [],
   "source": [
    "# read csv\n",
    "df = pd.read_csv(\"anonymized-curriculum-access.txt\", sep=\" \", header=None)\n",
    "# rename columns\n",
    "df.columns = [\"dates\", \"time\", \"endpoint\", \"user_id\", \"cohort\", 'ip']\n"
   ]
  },
  {
   "cell_type": "code",
   "execution_count": null,
   "id": "3b66c875",
   "metadata": {},
   "outputs": [],
   "source": [
    "df = "
   ]
  }
 ],
 "metadata": {
  "kernelspec": {
   "display_name": "Python 3 (ipykernel)",
   "language": "python",
   "name": "python3"
  },
  "language_info": {
   "codemirror_mode": {
    "name": "ipython",
    "version": 3
   },
   "file_extension": ".py",
   "mimetype": "text/x-python",
   "name": "python",
   "nbconvert_exporter": "python",
   "pygments_lexer": "ipython3",
   "version": "3.9.13"
  }
 },
 "nbformat": 4,
 "nbformat_minor": 5
}
